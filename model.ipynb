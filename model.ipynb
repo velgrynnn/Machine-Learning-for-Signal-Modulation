{
 "cells": [
  {
   "cell_type": "code",
   "execution_count": 10,
   "id": "830497cd",
   "metadata": {},
   "outputs": [
    {
     "name": "stderr",
     "output_type": "stream",
     "text": [
      "c:\\Users\\USER\\AppData\\Local\\Programs\\Python\\Python310\\lib\\site-packages\\tqdm\\auto.py:21: TqdmWarning: IProgress not found. Please update jupyter and ipywidgets. See https://ipywidgets.readthedocs.io/en/stable/user_install.html\n",
      "  from .autonotebook import tqdm as notebook_tqdm\n"
     ]
    },
    {
     "name": "stdout",
     "output_type": "stream",
     "text": [
      "Path to dataset files: C:\\Users\\USER\\.cache\\kagglehub\\datasets\\pinxau1000\\radioml2018\\versions\\2\n"
     ]
    }
   ],
   "source": [
    "import kagglehub\n",
    "\n",
    "# Download latest version\n",
    "path = kagglehub.dataset_download(\"pinxau1000/radioml2018\")\n",
    "\n",
    "print(\"Path to dataset files:\", path)"
   ]
  },
  {
   "cell_type": "code",
   "execution_count": 11,
   "id": "e883d04a",
   "metadata": {},
   "outputs": [
    {
     "name": "stdout",
     "output_type": "stream",
     "text": [
      " Volume in drive C is Windows SSD\n",
      " Volume Serial Number is 00BC-1571\n",
      "\n",
      " Directory of C:\\Users\\USER\\.cache\\kagglehub\\datasets\\pinxau1000\\radioml2018\\versions\\2\n",
      "\n",
      "06/03/2025  04:24 PM    <DIR>          .\n",
      "06/03/2025  04:22 PM    <DIR>          ..\n",
      "06/03/2025  04:24 PM               246 classes-fixed.json\n",
      "06/03/2025  04:24 PM             1,632 classes-fixed.txt\n",
      "06/03/2025  04:24 PM               262 classes.txt\n",
      "06/03/2025  04:24 PM               172 datasets.desktop\n",
      "06/03/2025  04:24 PM    21,449,148,312 GOLD_XYZ_OSC.0001_1024.hdf5\n",
      "06/03/2025  04:24 PM            20,993 LICENSE.TXT\n",
      "               6 File(s) 21,449,171,617 bytes\n",
      "               2 Dir(s)  783,414,308,864 bytes free\n"
     ]
    }
   ],
   "source": [
    "!dir C:\\Users\\USER\\.cache\\kagglehub\\datasets\\pinxau1000\\radioml2018\\versions\\2"
   ]
  },
  {
   "cell_type": "code",
   "execution_count": 12,
   "id": "6278a5c0",
   "metadata": {},
   "outputs": [],
   "source": [
    "dataset_path = \"C:\\\\Users\\\\USER\\\\.cache\\\\kagglehub\\\\datasets\\\\pinxau1000\\\\radioml2018\\\\versions\\\\2\\\\GOLD_XYZ_OSC.0001_1024.hdf5\""
   ]
  },
  {
   "cell_type": "code",
   "execution_count": 26,
   "id": "fa629196",
   "metadata": {},
   "outputs": [
    {
     "name": "stdout",
     "output_type": "stream",
     "text": [
      "Collecting timm\n",
      "  Downloading timm-1.0.15-py3-none-any.whl.metadata (52 kB)\n",
      "Requirement already satisfied: torch in c:\\users\\user\\appdata\\local\\programs\\python\\python310\\lib\\site-packages (from timm) (2.7.1)\n",
      "Requirement already satisfied: torchvision in c:\\users\\user\\appdata\\local\\programs\\python\\python310\\lib\\site-packages (from timm) (0.22.1)\n",
      "Requirement already satisfied: pyyaml in c:\\users\\user\\appdata\\local\\programs\\python\\python310\\lib\\site-packages (from timm) (6.0.2)\n",
      "Collecting huggingface_hub (from timm)\n",
      "  Downloading huggingface_hub-0.33.0-py3-none-any.whl.metadata (14 kB)\n",
      "Collecting safetensors (from timm)\n",
      "  Downloading safetensors-0.5.3-cp38-abi3-win_amd64.whl.metadata (3.9 kB)\n",
      "Requirement already satisfied: filelock in c:\\users\\user\\appdata\\local\\programs\\python\\python310\\lib\\site-packages (from huggingface_hub->timm) (3.18.0)\n",
      "Requirement already satisfied: fsspec>=2023.5.0 in c:\\users\\user\\appdata\\local\\programs\\python\\python310\\lib\\site-packages (from huggingface_hub->timm) (2025.5.1)\n",
      "Requirement already satisfied: packaging>=20.9 in c:\\users\\user\\appdata\\roaming\\python\\python310\\site-packages (from huggingface_hub->timm) (25.0)\n",
      "Requirement already satisfied: requests in c:\\users\\user\\appdata\\local\\programs\\python\\python310\\lib\\site-packages (from huggingface_hub->timm) (2.32.3)\n",
      "Requirement already satisfied: tqdm>=4.42.1 in c:\\users\\user\\appdata\\local\\programs\\python\\python310\\lib\\site-packages (from huggingface_hub->timm) (4.67.1)\n",
      "Requirement already satisfied: typing-extensions>=3.7.4.3 in c:\\users\\user\\appdata\\roaming\\python\\python310\\site-packages (from huggingface_hub->timm) (4.14.0)\n",
      "Requirement already satisfied: colorama in c:\\users\\user\\appdata\\roaming\\python\\python310\\site-packages (from tqdm>=4.42.1->huggingface_hub->timm) (0.4.6)\n",
      "Requirement already satisfied: charset-normalizer<4,>=2 in c:\\users\\user\\appdata\\local\\programs\\python\\python310\\lib\\site-packages (from requests->huggingface_hub->timm) (3.4.2)\n",
      "Requirement already satisfied: idna<4,>=2.5 in c:\\users\\user\\appdata\\local\\programs\\python\\python310\\lib\\site-packages (from requests->huggingface_hub->timm) (3.10)\n",
      "Requirement already satisfied: urllib3<3,>=1.21.1 in c:\\users\\user\\appdata\\local\\programs\\python\\python310\\lib\\site-packages (from requests->huggingface_hub->timm) (2.4.0)\n",
      "Requirement already satisfied: certifi>=2017.4.17 in c:\\users\\user\\appdata\\local\\programs\\python\\python310\\lib\\site-packages (from requests->huggingface_hub->timm) (2025.4.26)\n",
      "Requirement already satisfied: sympy>=1.13.3 in c:\\users\\user\\appdata\\local\\programs\\python\\python310\\lib\\site-packages (from torch->timm) (1.14.0)\n",
      "Requirement already satisfied: networkx in c:\\users\\user\\appdata\\local\\programs\\python\\python310\\lib\\site-packages (from torch->timm) (3.4.2)\n",
      "Requirement already satisfied: jinja2 in c:\\users\\user\\appdata\\local\\programs\\python\\python310\\lib\\site-packages (from torch->timm) (3.1.6)\n",
      "Requirement already satisfied: mpmath<1.4,>=1.1.0 in c:\\users\\user\\appdata\\local\\programs\\python\\python310\\lib\\site-packages (from sympy>=1.13.3->torch->timm) (1.3.0)\n",
      "Requirement already satisfied: MarkupSafe>=2.0 in c:\\users\\user\\appdata\\local\\programs\\python\\python310\\lib\\site-packages (from jinja2->torch->timm) (3.0.2)\n",
      "Requirement already satisfied: numpy in c:\\users\\user\\appdata\\local\\programs\\python\\python310\\lib\\site-packages (from torchvision->timm) (2.1.3)\n",
      "Requirement already satisfied: pillow!=8.3.*,>=5.3.0 in c:\\users\\user\\appdata\\local\\programs\\python\\python310\\lib\\site-packages (from torchvision->timm) (11.2.1)\n",
      "Downloading timm-1.0.15-py3-none-any.whl (2.4 MB)\n",
      "   ---------------------------------------- 0.0/2.4 MB ? eta -:--:--\n",
      "   -------------------------- ------------- 1.6/2.4 MB 9.3 MB/s eta 0:00:01\n",
      "   ---------------------------------------- 2.4/2.4 MB 9.0 MB/s eta 0:00:00\n",
      "Downloading huggingface_hub-0.33.0-py3-none-any.whl (514 kB)\n",
      "Downloading safetensors-0.5.3-cp38-abi3-win_amd64.whl (308 kB)\n",
      "Installing collected packages: safetensors, huggingface_hub, timm\n",
      "\n",
      "   ------------- -------------------------- 1/3 [huggingface_hub]\n",
      "   ------------- -------------------------- 1/3 [huggingface_hub]\n",
      "   ------------- -------------------------- 1/3 [huggingface_hub]\n",
      "   ------------- -------------------------- 1/3 [huggingface_hub]\n",
      "   ------------- -------------------------- 1/3 [huggingface_hub]\n",
      "   ------------- -------------------------- 1/3 [huggingface_hub]\n",
      "   ------------- -------------------------- 1/3 [huggingface_hub]\n",
      "   -------------------------- ------------- 2/3 [timm]\n",
      "   -------------------------- ------------- 2/3 [timm]\n",
      "   -------------------------- ------------- 2/3 [timm]\n",
      "   -------------------------- ------------- 2/3 [timm]\n",
      "   -------------------------- ------------- 2/3 [timm]\n",
      "   -------------------------- ------------- 2/3 [timm]\n",
      "   -------------------------- ------------- 2/3 [timm]\n",
      "   -------------------------- ------------- 2/3 [timm]\n",
      "   -------------------------- ------------- 2/3 [timm]\n",
      "   -------------------------- ------------- 2/3 [timm]\n",
      "   -------------------------- ------------- 2/3 [timm]\n",
      "   ---------------------------------------- 3/3 [timm]\n",
      "\n",
      "Successfully installed huggingface_hub-0.33.0 safetensors-0.5.3 timm-1.0.15\n"
     ]
    }
   ],
   "source": [
    "!pip install timm"
   ]
  },
  {
   "cell_type": "code",
   "execution_count": 13,
   "id": "18a0c431",
   "metadata": {},
   "outputs": [
    {
     "name": "stdout",
     "output_type": "stream",
     "text": [
      "Requirement already satisfied: torch in c:\\users\\user\\appdata\\local\\programs\\python\\python310\\lib\\site-packages (2.7.1)\n",
      "Requirement already satisfied: seaborn in c:\\users\\user\\appdata\\local\\programs\\python\\python310\\lib\\site-packages (0.13.2)\n",
      "Requirement already satisfied: filelock in c:\\users\\user\\appdata\\local\\programs\\python\\python310\\lib\\site-packages (from torch) (3.18.0)\n",
      "Requirement already satisfied: typing-extensions>=4.10.0 in c:\\users\\user\\appdata\\roaming\\python\\python310\\site-packages (from torch) (4.14.0)\n",
      "Requirement already satisfied: sympy>=1.13.3 in c:\\users\\user\\appdata\\local\\programs\\python\\python310\\lib\\site-packages (from torch) (1.14.0)\n",
      "Requirement already satisfied: networkx in c:\\users\\user\\appdata\\local\\programs\\python\\python310\\lib\\site-packages (from torch) (3.4.2)\n",
      "Requirement already satisfied: jinja2 in c:\\users\\user\\appdata\\local\\programs\\python\\python310\\lib\\site-packages (from torch) (3.1.6)\n",
      "Requirement already satisfied: fsspec in c:\\users\\user\\appdata\\local\\programs\\python\\python310\\lib\\site-packages (from torch) (2025.5.1)\n",
      "Requirement already satisfied: numpy!=1.24.0,>=1.20 in c:\\users\\user\\appdata\\local\\programs\\python\\python310\\lib\\site-packages (from seaborn) (2.1.3)\n",
      "Requirement already satisfied: pandas>=1.2 in c:\\users\\user\\appdata\\local\\programs\\python\\python310\\lib\\site-packages (from seaborn) (2.2.3)\n",
      "Requirement already satisfied: matplotlib!=3.6.1,>=3.4 in c:\\users\\user\\appdata\\local\\programs\\python\\python310\\lib\\site-packages (from seaborn) (3.10.3)\n",
      "Requirement already satisfied: contourpy>=1.0.1 in c:\\users\\user\\appdata\\local\\programs\\python\\python310\\lib\\site-packages (from matplotlib!=3.6.1,>=3.4->seaborn) (1.3.2)\n",
      "Requirement already satisfied: cycler>=0.10 in c:\\users\\user\\appdata\\local\\programs\\python\\python310\\lib\\site-packages (from matplotlib!=3.6.1,>=3.4->seaborn) (0.12.1)\n",
      "Requirement already satisfied: fonttools>=4.22.0 in c:\\users\\user\\appdata\\local\\programs\\python\\python310\\lib\\site-packages (from matplotlib!=3.6.1,>=3.4->seaborn) (4.58.1)\n",
      "Requirement already satisfied: kiwisolver>=1.3.1 in c:\\users\\user\\appdata\\local\\programs\\python\\python310\\lib\\site-packages (from matplotlib!=3.6.1,>=3.4->seaborn) (1.4.8)\n",
      "Requirement already satisfied: packaging>=20.0 in c:\\users\\user\\appdata\\roaming\\python\\python310\\site-packages (from matplotlib!=3.6.1,>=3.4->seaborn) (25.0)\n",
      "Requirement already satisfied: pillow>=8 in c:\\users\\user\\appdata\\local\\programs\\python\\python310\\lib\\site-packages (from matplotlib!=3.6.1,>=3.4->seaborn) (11.2.1)\n",
      "Requirement already satisfied: pyparsing>=2.3.1 in c:\\users\\user\\appdata\\local\\programs\\python\\python310\\lib\\site-packages (from matplotlib!=3.6.1,>=3.4->seaborn) (3.2.3)\n",
      "Requirement already satisfied: python-dateutil>=2.7 in c:\\users\\user\\appdata\\roaming\\python\\python310\\site-packages (from matplotlib!=3.6.1,>=3.4->seaborn) (2.9.0.post0)\n",
      "Requirement already satisfied: pytz>=2020.1 in c:\\users\\user\\appdata\\local\\programs\\python\\python310\\lib\\site-packages (from pandas>=1.2->seaborn) (2025.2)\n",
      "Requirement already satisfied: tzdata>=2022.7 in c:\\users\\user\\appdata\\local\\programs\\python\\python310\\lib\\site-packages (from pandas>=1.2->seaborn) (2025.2)\n",
      "Requirement already satisfied: six>=1.5 in c:\\users\\user\\appdata\\roaming\\python\\python310\\site-packages (from python-dateutil>=2.7->matplotlib!=3.6.1,>=3.4->seaborn) (1.17.0)\n",
      "Requirement already satisfied: mpmath<1.4,>=1.1.0 in c:\\users\\user\\appdata\\local\\programs\\python\\python310\\lib\\site-packages (from sympy>=1.13.3->torch) (1.3.0)\n",
      "Requirement already satisfied: MarkupSafe>=2.0 in c:\\users\\user\\appdata\\local\\programs\\python\\python310\\lib\\site-packages (from jinja2->torch) (3.0.2)\n"
     ]
    }
   ],
   "source": [
    "!pip install torch seaborn"
   ]
  },
  {
   "cell_type": "code",
   "execution_count": 14,
   "id": "a592b7e8",
   "metadata": {},
   "outputs": [
    {
     "name": "stdout",
     "output_type": "stream",
     "text": [
      "Requirement already satisfied: torch in c:\\users\\user\\appdata\\local\\programs\\python\\python310\\lib\\site-packages (2.7.1)\n",
      "Requirement already satisfied: filelock in c:\\users\\user\\appdata\\local\\programs\\python\\python310\\lib\\site-packages (from torch) (3.18.0)\n",
      "Requirement already satisfied: typing-extensions>=4.10.0 in c:\\users\\user\\appdata\\roaming\\python\\python310\\site-packages (from torch) (4.14.0)\n",
      "Requirement already satisfied: sympy>=1.13.3 in c:\\users\\user\\appdata\\local\\programs\\python\\python310\\lib\\site-packages (from torch) (1.14.0)\n",
      "Requirement already satisfied: networkx in c:\\users\\user\\appdata\\local\\programs\\python\\python310\\lib\\site-packages (from torch) (3.4.2)\n",
      "Requirement already satisfied: jinja2 in c:\\users\\user\\appdata\\local\\programs\\python\\python310\\lib\\site-packages (from torch) (3.1.6)\n",
      "Requirement already satisfied: fsspec in c:\\users\\user\\appdata\\local\\programs\\python\\python310\\lib\\site-packages (from torch) (2025.5.1)\n",
      "Requirement already satisfied: mpmath<1.4,>=1.1.0 in c:\\users\\user\\appdata\\local\\programs\\python\\python310\\lib\\site-packages (from sympy>=1.13.3->torch) (1.3.0)\n",
      "Requirement already satisfied: MarkupSafe>=2.0 in c:\\users\\user\\appdata\\local\\programs\\python\\python310\\lib\\site-packages (from jinja2->torch) (3.0.2)\n"
     ]
    }
   ],
   "source": [
    "!pip install --upgrade torch"
   ]
  },
  {
   "cell_type": "code",
   "execution_count": 15,
   "id": "5340739e",
   "metadata": {},
   "outputs": [
    {
     "name": "stdout",
     "output_type": "stream",
     "text": [
      "Requirement already satisfied: torchaudio in c:\\users\\user\\appdata\\local\\programs\\python\\python310\\lib\\site-packages (2.7.1)\n",
      "Requirement already satisfied: torch==2.7.1 in c:\\users\\user\\appdata\\local\\programs\\python\\python310\\lib\\site-packages (from torchaudio) (2.7.1)\n",
      "Requirement already satisfied: filelock in c:\\users\\user\\appdata\\local\\programs\\python\\python310\\lib\\site-packages (from torch==2.7.1->torchaudio) (3.18.0)\n",
      "Requirement already satisfied: typing-extensions>=4.10.0 in c:\\users\\user\\appdata\\roaming\\python\\python310\\site-packages (from torch==2.7.1->torchaudio) (4.14.0)\n",
      "Requirement already satisfied: sympy>=1.13.3 in c:\\users\\user\\appdata\\local\\programs\\python\\python310\\lib\\site-packages (from torch==2.7.1->torchaudio) (1.14.0)\n",
      "Requirement already satisfied: networkx in c:\\users\\user\\appdata\\local\\programs\\python\\python310\\lib\\site-packages (from torch==2.7.1->torchaudio) (3.4.2)\n",
      "Requirement already satisfied: jinja2 in c:\\users\\user\\appdata\\local\\programs\\python\\python310\\lib\\site-packages (from torch==2.7.1->torchaudio) (3.1.6)\n",
      "Requirement already satisfied: fsspec in c:\\users\\user\\appdata\\local\\programs\\python\\python310\\lib\\site-packages (from torch==2.7.1->torchaudio) (2025.5.1)\n",
      "Requirement already satisfied: mpmath<1.4,>=1.1.0 in c:\\users\\user\\appdata\\local\\programs\\python\\python310\\lib\\site-packages (from sympy>=1.13.3->torch==2.7.1->torchaudio) (1.3.0)\n",
      "Requirement already satisfied: MarkupSafe>=2.0 in c:\\users\\user\\appdata\\local\\programs\\python\\python310\\lib\\site-packages (from jinja2->torch==2.7.1->torchaudio) (3.0.2)\n"
     ]
    }
   ],
   "source": [
    "!pip install torchaudio"
   ]
  },
  {
   "cell_type": "code",
   "execution_count": 16,
   "id": "e5def3e6",
   "metadata": {},
   "outputs": [
    {
     "name": "stdout",
     "output_type": "stream",
     "text": [
      "Requirement already satisfied: torchvision in c:\\users\\user\\appdata\\local\\programs\\python\\python310\\lib\\site-packages (0.22.1)\n",
      "Requirement already satisfied: numpy in c:\\users\\user\\appdata\\local\\programs\\python\\python310\\lib\\site-packages (from torchvision) (2.1.3)\n",
      "Requirement already satisfied: torch==2.7.1 in c:\\users\\user\\appdata\\local\\programs\\python\\python310\\lib\\site-packages (from torchvision) (2.7.1)\n",
      "Requirement already satisfied: pillow!=8.3.*,>=5.3.0 in c:\\users\\user\\appdata\\local\\programs\\python\\python310\\lib\\site-packages (from torchvision) (11.2.1)\n",
      "Requirement already satisfied: filelock in c:\\users\\user\\appdata\\local\\programs\\python\\python310\\lib\\site-packages (from torch==2.7.1->torchvision) (3.18.0)\n",
      "Requirement already satisfied: typing-extensions>=4.10.0 in c:\\users\\user\\appdata\\roaming\\python\\python310\\site-packages (from torch==2.7.1->torchvision) (4.14.0)\n",
      "Requirement already satisfied: sympy>=1.13.3 in c:\\users\\user\\appdata\\local\\programs\\python\\python310\\lib\\site-packages (from torch==2.7.1->torchvision) (1.14.0)\n",
      "Requirement already satisfied: networkx in c:\\users\\user\\appdata\\local\\programs\\python\\python310\\lib\\site-packages (from torch==2.7.1->torchvision) (3.4.2)\n",
      "Requirement already satisfied: jinja2 in c:\\users\\user\\appdata\\local\\programs\\python\\python310\\lib\\site-packages (from torch==2.7.1->torchvision) (3.1.6)\n",
      "Requirement already satisfied: fsspec in c:\\users\\user\\appdata\\local\\programs\\python\\python310\\lib\\site-packages (from torch==2.7.1->torchvision) (2025.5.1)\n",
      "Requirement already satisfied: mpmath<1.4,>=1.1.0 in c:\\users\\user\\appdata\\local\\programs\\python\\python310\\lib\\site-packages (from sympy>=1.13.3->torch==2.7.1->torchvision) (1.3.0)\n",
      "Requirement already satisfied: MarkupSafe>=2.0 in c:\\users\\user\\appdata\\local\\programs\\python\\python310\\lib\\site-packages (from jinja2->torch==2.7.1->torchvision) (3.0.2)\n"
     ]
    }
   ],
   "source": [
    "!pip install torchvision"
   ]
  },
  {
   "cell_type": "markdown",
   "id": "ce2c8a3c",
   "metadata": {},
   "source": [
    "1. Load dataset dan preprocessing"
   ]
  },
  {
   "cell_type": "code",
   "execution_count": 17,
   "id": "cc3679d1",
   "metadata": {},
   "outputs": [
    {
     "name": "stdout",
     "output_type": "stream",
     "text": [
      "Requirement already satisfied: torchsummary in c:\\users\\user\\appdata\\local\\programs\\python\\python310\\lib\\site-packages (1.5.1)\n"
     ]
    }
   ],
   "source": [
    "!pip install torchsummary"
   ]
  },
  {
   "cell_type": "code",
   "execution_count": 18,
   "id": "626a7768",
   "metadata": {},
   "outputs": [],
   "source": [
    "from torchsummary import summary\n",
    "import pickle\n",
    "import numpy as np\n",
    "import torch\n",
    "import torch.nn as nn\n",
    "import torch.optim as optim\n",
    "from torch.utils.data import Dataset, DataLoader, random_split\n",
    "import matplotlib.pyplot as plt\n",
    "from sklearn.metrics import confusion_matrix, accuracy_score\n",
    "import seaborn as sns\n",
    "import torchaudio\n",
    "from torchvision import transforms\n",
    "import h5py"
   ]
  },
  {
   "cell_type": "code",
   "execution_count": 19,
   "id": "b6c424c1",
   "metadata": {},
   "outputs": [
    {
     "name": "stdout",
     "output_type": "stream",
     "text": [
      "Shape of X (IQ data): (2555904, 1024, 2)\n",
      "Shape of Y (Labels): (2555904, 24)\n",
      "Shape of Z (SNR): (2555904, 1)\n"
     ]
    }
   ],
   "source": [
    "import h5py\n",
    "\n",
    "# Misalkan kamu sudah memuat file HDF5\n",
    "with h5py.File(dataset_path, 'r') as f:\n",
    "    X = f['X'][:]  # Sinyal IQ\n",
    "    Y = f['Y'][:]  # Label modulasi\n",
    "    Z = f['Z'][:]  # Label SNR\n",
    "    \n",
    "    print(f\"Shape of X (IQ data): {X.shape}\")\n",
    "    print(f\"Shape of Y (Labels): {Y.shape}\")\n",
    "    print(f\"Shape of Z (SNR): {Z.shape}\")\n"
   ]
  },
  {
   "cell_type": "markdown",
   "id": "1cc6112d",
   "metadata": {},
   "source": [
    "2. Pendefinisian Class dan Objek"
   ]
  },
  {
   "cell_type": "code",
   "execution_count": null,
   "id": "f23ba84c",
   "metadata": {},
   "outputs": [
    {
     "name": "stdout",
     "output_type": "stream",
     "text": [
      "Total samples: 2555904\n",
      "Shape of first sample (IQ): torch.Size([1024, 2])\n",
      "Label for first sample: 0\n"
     ]
    }
   ],
   "source": [
    "# --- DEFINISI KELAS DATASET BARU ---\n",
    "\n",
    "class SpectrogramDataset(Dataset):\n",
    "    \"\"\"\n",
    "    Dataset ini mengambil sinyal IQ 1D, dan secara 'on-the-fly' mengubahnya\n",
    "    menjadi gambar spectrogram 2D yang siap digunakan oleh model 2D.\n",
    "    \"\"\"\n",
    "    def __init__(self, hdf5_path, classes, image_transform=None):\n",
    "        with h5py.File(hdf5_path, 'r') as f:\n",
    "            self.X = f['X']  # Data sinyal IQ mentah\n",
    "            self.Y = f['Y']  # Label one-hot\n",
    "        self.classes = classes\n",
    "        self.image_transform = image_transform\n",
    "        \n",
    "        # Inisialisasi transformasi untuk membuat spectrogram.\n",
    "        # n_fft adalah ukuran window untuk Fast Fourier Transform.\n",
    "        self.spectrogram_generator = torchaudio.transforms.Spectrogram(n_fft=256,onesided=False)\n",
    "\n",
    "    def __len__(self):\n",
    "        return len(self.Y)\n",
    "\n",
    "    def __getitem__(self, idx):\n",
    "        # ===== DI SINILAH PROSES KONVERSI 1D -> 2D TERJADI =====\n",
    "\n",
    "        # 1. Ambil sinyal I/Q untuk satu sampel. Shape: (1024, 2)\n",
    "        iq_signal = self.X[idx]\n",
    "        \n",
    "        # 2. Gabungkan I dan Q menjadi sinyal kompleks.\n",
    "        #    Operasi STFT (inti dari spectrogram) bekerja pada sinyal kompleks.\n",
    "        complex_signal = torch.tensor(iq_signal[:, 0] + 1j * iq_signal[:, 1], dtype=torch.complex64)\n",
    "        \n",
    "        # 3. Buat Spectrogram dari sinyal kompleks.\n",
    "        #    Hasilnya adalah tensor 2D yang merepresentasikan frekuensi vs. waktu.\n",
    "        spectrogram = self.spectrogram_generator(complex_signal)\n",
    "        \n",
    "        # 4. Konversi ke Magnitudo dengan skala log.\n",
    "        #    .abs() mengambil magnitudo, dan log1p menstabilkan rentang nilai\n",
    "        #    agar lebih mudah dipelajari oleh model.\n",
    "        log_spectrogram = torch.log1p(spectrogram.abs())\n",
    "        \n",
    "        # 5. Sesuaikan channel agar cocok dengan model 2D (misal: ResNet, EfficientNet).\n",
    "        #    Model 2D pre-trained mengharapkan 3 channel (seperti gambar RGB).\n",
    "        #    Kita duplikasi spectrogram (yang 1 channel) menjadi 3 channel.\n",
    "        #    - .unsqueeze(0) menambah dimensi channel: (H, W) -> (1, H, W)\n",
    "        #    - .repeat(3, 1, 1) mengulang channel tsb 3 kali: (1, H, W) -> (3, H, W)\n",
    "        rgb_like_spectrogram = log_spectrogram.unsqueeze(0).repeat(3, 1, 1)\n",
    "\n",
    "        # 6. Terapkan transformasi gambar (jika ada).\n",
    "        #    Ini biasanya untuk me-resize gambar ke ukuran input model (misal 224x224)\n",
    "        #    dan menormalisasi nilainya.\n",
    "        if self.image_transform:\n",
    "            rgb_like_spectrogram = self.image_transform(rgb_like_spectrogram)\n",
    "        \n",
    "        # 7. Ambil label dan konversi dari one-hot ke integer.\n",
    "        label = torch.tensor(np.argmax(self.Y[idx]), dtype=torch.long)\n",
    "        \n",
    "        # 8. Kembalikan gambar spectrogram dan labelnya.\n",
    "        return rgb_like_spectrogram, label\n",
    "\n",
    "class BasicBlock(nn.Module):\n",
    "     \"\"\" Basic Residual Block (used in ResNet) \"\"\"\n",
    "     def __init__(self, in_channels, out_channels):\n",
    "         super(BasicBlock, self).__init__()\n",
    "         self.conv1 = nn.Conv1d(in_channels, out_channels, kernel_size=3, padding=1)\n",
    "         self.bn1 = nn.BatchNorm1d(out_channels)\n",
    "         self.relu = nn.ReLU()\n",
    "         self.conv2 = nn.Conv1d(out_channels, out_channels, kernel_size=3, padding=1)\n",
    "         self.bn2 = nn.BatchNorm1d(out_channels)\n",
    "         self.shortcut = nn.Sequential()\n",
    "         if in_channels != out_channels:\n",
    "             self.shortcut = nn.Sequential(\n",
    "                 nn.Conv1d(in_channels, out_channels, kernel_size=1),\n",
    "                 nn.BatchNorm1d(out_channels)\n",
    "             )\n",
    "\n",
    "     def forward(self, x):\n",
    "         out = self.relu(self.bn1(self.conv1(x)))\n",
    "         out = self.bn2(self.conv2(out))\n",
    "         out += self.shortcut(x)  # residual connection\n",
    "         out = self.relu(out)\n",
    "         return out\n",
    "\n",
    "class CNNResNetModel(nn.Module):\n",
    "    def __init__(self, num_classes=8):\n",
    "        super(CNNResNetModel, self).__init__()\n",
    "        self.conv1 = nn.Conv1d(2, 64, kernel_size=3, padding=1)\n",
    "        self.bn1 = nn.BatchNorm1d(64)\n",
    "        self.relu = nn.ReLU()\n",
    "        self.pool = nn.MaxPool1d(2)\n",
    "        \n",
    "        # ResNet blocks\n",
    "        self.resnet_block1 = BasicBlock(64, 128)\n",
    "        self.resnet_block2 = BasicBlock(128, 256)\n",
    "        self.resnet_block3 = BasicBlock(256, 512)\n",
    "        \n",
    "        self.fc1 = nn.Linear(512 * 16, 1024)  # Adjust according to input length after pooling\n",
    "        self.fc2 = nn.Linear(1024, num_classes)\n",
    "        self.dropout = nn.Dropout(0.5)\n",
    "\n",
    "    def forward(self, x):\n",
    "        x = x.permute(0, 2, 1)  # Change shape from (batch_size, 1024, 2) to (batch_size, 2, 1024)\n",
    "        # CNN part\n",
    "        x = self.relu(self.bn1(self.conv1(x)))\n",
    "        x = self.pool(x)  # shape becomes (batch_size, 64, 64)\n",
    "\n",
    "        # ResNet part\n",
    "        x = self.resnet_block1(x)  # (batch_size, 128, 64)\n",
    "        x = self.pool(x)  # shape becomes (batch_size, 128, 32)\n",
    "        \n",
    "        x = self.resnet_block2(x)  # (batch_size, 256, 32)\n",
    "        x = self.pool(x)  # shape becomes (batch_size, 256, 16)\n",
    "        \n",
    "        x = self.resnet_block3(x)  # (batch_size, 512, 16)\n",
    "        x = self.pool(x)\n",
    "        # Flattening the output for fully connected layers\n",
    "        x = x.view(x.size(0), -1) # Flatten\n",
    "\n",
    "        # Fully connected layers\n",
    "        x = self.fc1(x)\n",
    "        x = self.dropout(x)\n",
    "        x = self.fc2(x)\n",
    "        return x\n",
    "\n",
    "class RadioMLDataset(Dataset):\n",
    "    \"\"\" Dataset for loading and preprocessing HDF5 file \"\"\"\n",
    "    def __init__(self, hdf5_path, classes):\n",
    "        with h5py.File(hdf5_path, 'r') as f:\n",
    "            self.X = f['X'][:]\n",
    "            self.Y = f['Y'][:]\n",
    "            self.SNR = f['Z'][:]\n",
    "        self.classes = classes\n",
    "        self.class_to_idx = {cls: idx for idx, cls in enumerate(classes)}\n",
    "        \n",
    "    def __len__(self):\n",
    "        return len(self.Y)\n",
    "\n",
    "    def __getitem__(self, idx):\n",
    "        # Normalize IQ samples to range [-1, 1]\n",
    "        iq_data = self.X[idx]  # normalize\n",
    "        label = self.Y[idx]\n",
    "        if isinstance(label, np.ndarray):\n",
    "            label = np.argmax(label)\n",
    "        iq_data_normalized = iq_data / np.max(np.abs(iq_data))\n",
    "        iq_tensor = torch.FloatTensor(iq_data_normalized)\n",
    "        label_tensor = torch.tensor(label, dtype=torch.long)\n",
    "        return iq_tensor, label_tensor # torch.FloatTensor(iq_data), torch.tensor(label)\n",
    "\n",
    "hdf5_path = 'C:\\\\Users\\\\USER\\\\.cache\\\\kagglehub\\\\datasets\\\\pinxau1000\\\\radioml2018\\\\versions\\\\2\\\\GOLD_XYZ_OSC.0001_1024.hdf5'\n",
    "classes = ['BPSK', 'QPSK', '8PSK', 'QAM16', 'QAM64', 'CPFSK', 'GFSK', '4PAM']\n",
    "\n",
    "dataset = RadioMLDataset(hdf5_path, classes)\n",
    "\n",
    "# Melihat contoh data\n",
    "print(f\"Total samples: {len(dataset)}\")\n",
    "print(f\"Shape of first sample (IQ): {dataset[0][0].shape}\")\n",
    "print(f\"Label for first sample: {dataset[0][1]}\")"
   ]
  },
  {
   "cell_type": "markdown",
   "id": "29d89def",
   "metadata": {},
   "source": [
    "3. Subprogram Training dan Evaluasi"
   ]
  },
  {
   "cell_type": "code",
   "execution_count": 5,
   "id": "b93f56f2",
   "metadata": {},
   "outputs": [],
   "source": [
    "from tqdm import tqdm\n",
    "\n",
    "def train_model(model, train_loader, criterion, optimizer, device):\n",
    "    model.train()\n",
    "    running_loss = 0.0\n",
    "    correct = 0\n",
    "    total = 0\n",
    "    for inputs, labels in tqdm(train_loader, desc=\"Training\"):\n",
    "        inputs, labels = inputs.to(device), labels.to(device)\n",
    "\n",
    "        optimizer.zero_grad()\n",
    "        outputs = model(inputs)\n",
    "        loss = criterion(outputs, labels)\n",
    "        loss.backward()\n",
    "        optimizer.step()\n",
    "\n",
    "        running_loss += loss.item() * inputs.size(0)\n",
    "        _, predicted = torch.max(outputs, 1)\n",
    "        correct += (predicted == labels).sum().item()\n",
    "        total += labels.size(0)\n",
    "\n",
    "    return running_loss / total, correct / total\n",
    "\n",
    "def evaluate_model(model, test_loader, criterion, device):\n",
    "    model.eval()\n",
    "    running_loss = 0.0\n",
    "    correct = 0\n",
    "    total = 0\n",
    "    all_labels = []\n",
    "    all_preds = []\n",
    "\n",
    "    with torch.no_grad():\n",
    "        for inputs, labels in tqdm(test_loader, desc=\"Evaluating\"):\n",
    "            inputs, labels = inputs.to(device), labels.to(device)\n",
    "\n",
    "            outputs = model(inputs)\n",
    "            loss = criterion(outputs, labels)\n",
    "\n",
    "            running_loss += loss.item() * inputs.size(0)\n",
    "            _, predicted = torch.max(outputs, 1)\n",
    "            correct += (predicted == labels).sum().item()\n",
    "            total += labels.size(0)\n",
    "\n",
    "            all_labels.extend(labels.cpu().numpy())\n",
    "            all_preds.extend(predicted.cpu().numpy())\n",
    "\n",
    "    return running_loss / total, correct / total, all_labels, all_preds"
   ]
  },
  {
   "cell_type": "markdown",
   "id": "5d188b68",
   "metadata": {},
   "source": [
    "4. Program Utama untuk Training dan Evaluasi"
   ]
  },
  {
   "cell_type": "code",
   "execution_count": 23,
   "id": "cada9560",
   "metadata": {},
   "outputs": [
    {
     "data": {
      "text/plain": [
       "'from torch.optim.lr_scheduler import ReduceLROnPlateau # Pastikan import ini ada\\n\\ndef main():\\n    # 1. Pengaturan Awal (Path dan Kelas)\\n    # Gunakan path lengkap dan benar yang sudah kita perbaiki\\n    hdf5_path = \\'C:\\\\Users\\\\USER\\\\.cache\\\\kagglehub\\\\datasets\\\\pinxau1000\\\\radioml2018\\\\versions\\\\2\\\\GOLD_XYZ_OSC.0001_1024.hdf5\\'\\n    classes = [\\'BPSK\\', \\'QPSK\\', \\'8PSK\\', \\'QAM16\\', \\'QAM64\\', \\'CPFSK\\', \\'GFSK\\', \\'4PAM\\']\\n    \\n    # Pastikan kelas CNNResNetModel sudah diperbarui dengan perbaikan `permute` dan `fc1`\\n    dataset = RadioMLDataset(hdf5_path, classes)\\n\\n    # 2. Pembagian Data (80-20)\\n    train_size = int(0.8 * len(dataset))\\n    test_size = len(dataset) - train_size\\n    train_dataset, test_dataset = random_split(dataset, [train_size, test_size])\\n\\n    train_loader = DataLoader(train_dataset, batch_size=256, shuffle=True, num_workers=4, pin_memory=True)\\n    test_loader = DataLoader(test_dataset, batch_size=256, shuffle=False, num_workers=4, pin_memory=True)\\n\\n    # 3. Inisialisasi Model, Optimizer, dan Scheduler\\n    device = torch.device(\\'cuda\\' if torch.cuda.is_available() else \\'cpu\\')\\n    print(f\"Menggunakan device: {device}\")\\n    \\n    model = CNNResNetModel(num_classes=len(classes)).to(device)\\n    criterion = nn.CrossEntropyLoss()\\n    \\n    # Optimizer dengan weight_decay untuk regularisasi\\n    optimizer = optim.Adam(model.parameters(), lr=1e-3, weight_decay=1e-5)\\n    \\n    # Scheduler untuk menyesuaikan learning rate (tanpa argumen \\'verbose\\' agar kompatibel)\\n    scheduler = ReduceLROnPlateau(optimizer, mode=\\'max\\', factor=0.1, patience=3)\\n\\n    # 4. Persiapan untuk Training Loop\\n    num_epochs = 25\\n    history = {\\'train_loss\\': [], \\'train_acc\\': [], \\'test_loss\\': [], \\'test_acc\\': []}\\n    best_test_acc = 0.0\\n\\n    print(\"--- Memulai Training ---\")\\n    for epoch in range(num_epochs):\\n        # Melatih model untuk satu epoch\\n        train_loss, train_acc = train_model(model, train_loader, criterion, optimizer, device)\\n        \\n        # Mengevaluasi model pada data testing\\n        test_loss, test_acc, _, _ = evaluate_model(model, test_loader, criterion, device)\\n\\n        # Menyimpan riwayat loss dan akurasi\\n        history[\\'train_loss\\'].append(train_loss)\\n        history[\\'train_acc\\'].append(train_acc)\\n        history[\\'test_loss\\'].append(test_loss)\\n        history[\\'test_acc\\'].append(test_acc)\\n        \\n        print(f\"Epoch [{epoch+1}/{num_epochs}] | \"\\n              f\"Train Loss: {train_loss:.4f}, Train Acc: {train_acc:.4f} | \"\\n              f\"Test Loss: {test_loss:.4f}, Test Acc: {test_acc:.4f}\")\\n\\n        # Menyesuaikan learning rate berdasarkan akurasi testing\\n        scheduler.step(test_acc)\\n        \\n        # Menyimpan model terbaik\\n        if test_acc > best_test_acc:\\n            best_test_acc = test_acc\\n            torch.save(model.state_dict(), \\'best_model_weights.pth\\')\\n            print(f\"    -> Model terbaik baru disimpan dengan akurasi: {best_test_acc:.4f}\")\\n\\n    print(\"--- Training Selesai ---\")\\n\\n    # 5. Visualisasi Hasil Training\\n    print(\"\\nMembuat plot loss dan akurasi...\")\\n    plt.figure(figsize=(15, 6))\\n    plt.subplot(1, 2, 1)\\n    plt.plot(history[\\'train_loss\\'], label=\\'Train Loss\\')\\n    plt.plot(history[\\'test_loss\\'], label=\\'Test Loss\\')\\n    plt.title(\\'Grafik Loss per Epoch\\')\\n    plt.xlabel(\\'Epoch\\')\\n    plt.ylabel(\\'Loss\\')\\n    plt.legend()\\n    plt.grid(True)\\n\\n    plt.subplot(1, 2, 2)\\n    plt.plot(history[\\'train_acc\\'], label=\\'Train Accuracy\\')\\n    plt.plot(history[\\'test_acc\\'], label=\\'Test Accuracy\\')\\n    plt.title(\\'Grafik Akurasi per Epoch\\')\\n    plt.xlabel(\\'Epoch\\')\\n    plt.ylabel(\\'Accuracy\\')\\n    plt.legend()\\n    plt.grid(True)\\n    plt.show()\\n\\n    # 6. Evaluasi Final dengan Model Terbaik\\n    print(\"\\nMelakukan evaluasi akhir dengan model terbaik...\")\\n    model.load_state_dict(torch.load(\\'best_model_weights.pth\\'))\\n    \\n    _, _, true_labels, predicted_labels = evaluate_model(model, test_loader, criterion, device)\\n    \\n    # Menampilkan Confusion Matrix\\n    cm = confusion_matrix(true_labels, predicted_labels)\\n    plt.figure(figsize=(12, 10))\\n    sns.heatmap(cm, annot=True, fmt=\\'d\\', xticklabels=classes, yticklabels=classes, cmap=\\'Blues\\')\\n    plt.title(\\'Confusion Matrix dari Model Terbaik\\')\\n    plt.xlabel(\\'Prediksi\\')\\n    plt.ylabel(\\'Sebenarnya\\')\\n    plt.show()\\n\\n    # Menampilkan Akurasi per Kelas\\n    print(\"\\n--- Akurasi per Kelas ---\")\\n    class_accuracy = cm.diagonal() / cm.sum(axis=1)\\n    for i, acc in enumerate(class_accuracy):\\n        print(f\"  - Akurasi untuk {classes[i]:<7}: {acc:.4f}\")\\n\\n\\nif __name__ == \\'__main__\\':\\n    main()'"
      ]
     },
     "execution_count": 23,
     "metadata": {},
     "output_type": "execute_result"
    }
   ],
   "source": [
    "'''from torch.optim.lr_scheduler import ReduceLROnPlateau # Pastikan import ini ada\n",
    "\n",
    "def main():\n",
    "    # 1. Pengaturan Awal (Path dan Kelas)\n",
    "    # Gunakan path lengkap dan benar yang sudah kita perbaiki\n",
    "    hdf5_path = 'C:\\\\Users\\\\USER\\\\.cache\\\\kagglehub\\\\datasets\\\\pinxau1000\\\\radioml2018\\\\versions\\\\2\\\\GOLD_XYZ_OSC.0001_1024.hdf5'\n",
    "    classes = ['BPSK', 'QPSK', '8PSK', 'QAM16', 'QAM64', 'CPFSK', 'GFSK', '4PAM']\n",
    "    \n",
    "    # Pastikan kelas CNNResNetModel sudah diperbarui dengan perbaikan `permute` dan `fc1`\n",
    "    dataset = RadioMLDataset(hdf5_path, classes)\n",
    "\n",
    "    # 2. Pembagian Data (80-20)\n",
    "    train_size = int(0.8 * len(dataset))\n",
    "    test_size = len(dataset) - train_size\n",
    "    train_dataset, test_dataset = random_split(dataset, [train_size, test_size])\n",
    "\n",
    "    train_loader = DataLoader(train_dataset, batch_size=256, shuffle=True, num_workers=4, pin_memory=True)\n",
    "    test_loader = DataLoader(test_dataset, batch_size=256, shuffle=False, num_workers=4, pin_memory=True)\n",
    "\n",
    "    # 3. Inisialisasi Model, Optimizer, dan Scheduler\n",
    "    device = torch.device('cuda' if torch.cuda.is_available() else 'cpu')\n",
    "    print(f\"Menggunakan device: {device}\")\n",
    "    \n",
    "    model = CNNResNetModel(num_classes=len(classes)).to(device)\n",
    "    criterion = nn.CrossEntropyLoss()\n",
    "    \n",
    "    # Optimizer dengan weight_decay untuk regularisasi\n",
    "    optimizer = optim.Adam(model.parameters(), lr=1e-3, weight_decay=1e-5)\n",
    "    \n",
    "    # Scheduler untuk menyesuaikan learning rate (tanpa argumen 'verbose' agar kompatibel)\n",
    "    scheduler = ReduceLROnPlateau(optimizer, mode='max', factor=0.1, patience=3)\n",
    "\n",
    "    # 4. Persiapan untuk Training Loop\n",
    "    num_epochs = 25\n",
    "    history = {'train_loss': [], 'train_acc': [], 'test_loss': [], 'test_acc': []}\n",
    "    best_test_acc = 0.0\n",
    "\n",
    "    print(\"--- Memulai Training ---\")\n",
    "    for epoch in range(num_epochs):\n",
    "        # Melatih model untuk satu epoch\n",
    "        train_loss, train_acc = train_model(model, train_loader, criterion, optimizer, device)\n",
    "        \n",
    "        # Mengevaluasi model pada data testing\n",
    "        test_loss, test_acc, _, _ = evaluate_model(model, test_loader, criterion, device)\n",
    "\n",
    "        # Menyimpan riwayat loss dan akurasi\n",
    "        history['train_loss'].append(train_loss)\n",
    "        history['train_acc'].append(train_acc)\n",
    "        history['test_loss'].append(test_loss)\n",
    "        history['test_acc'].append(test_acc)\n",
    "        \n",
    "        print(f\"Epoch [{epoch+1}/{num_epochs}] | \"\n",
    "              f\"Train Loss: {train_loss:.4f}, Train Acc: {train_acc:.4f} | \"\n",
    "              f\"Test Loss: {test_loss:.4f}, Test Acc: {test_acc:.4f}\")\n",
    "\n",
    "        # Menyesuaikan learning rate berdasarkan akurasi testing\n",
    "        scheduler.step(test_acc)\n",
    "        \n",
    "        # Menyimpan model terbaik\n",
    "        if test_acc > best_test_acc:\n",
    "            best_test_acc = test_acc\n",
    "            torch.save(model.state_dict(), 'best_model_weights.pth')\n",
    "            print(f\"    -> Model terbaik baru disimpan dengan akurasi: {best_test_acc:.4f}\")\n",
    "\n",
    "    print(\"--- Training Selesai ---\")\n",
    "\n",
    "    # 5. Visualisasi Hasil Training\n",
    "    print(\"\\nMembuat plot loss dan akurasi...\")\n",
    "    plt.figure(figsize=(15, 6))\n",
    "    plt.subplot(1, 2, 1)\n",
    "    plt.plot(history['train_loss'], label='Train Loss')\n",
    "    plt.plot(history['test_loss'], label='Test Loss')\n",
    "    plt.title('Grafik Loss per Epoch')\n",
    "    plt.xlabel('Epoch')\n",
    "    plt.ylabel('Loss')\n",
    "    plt.legend()\n",
    "    plt.grid(True)\n",
    "\n",
    "    plt.subplot(1, 2, 2)\n",
    "    plt.plot(history['train_acc'], label='Train Accuracy')\n",
    "    plt.plot(history['test_acc'], label='Test Accuracy')\n",
    "    plt.title('Grafik Akurasi per Epoch')\n",
    "    plt.xlabel('Epoch')\n",
    "    plt.ylabel('Accuracy')\n",
    "    plt.legend()\n",
    "    plt.grid(True)\n",
    "    plt.show()\n",
    "\n",
    "    # 6. Evaluasi Final dengan Model Terbaik\n",
    "    print(\"\\nMelakukan evaluasi akhir dengan model terbaik...\")\n",
    "    model.load_state_dict(torch.load('best_model_weights.pth'))\n",
    "    \n",
    "    _, _, true_labels, predicted_labels = evaluate_model(model, test_loader, criterion, device)\n",
    "    \n",
    "    # Menampilkan Confusion Matrix\n",
    "    cm = confusion_matrix(true_labels, predicted_labels)\n",
    "    plt.figure(figsize=(12, 10))\n",
    "    sns.heatmap(cm, annot=True, fmt='d', xticklabels=classes, yticklabels=classes, cmap='Blues')\n",
    "    plt.title('Confusion Matrix dari Model Terbaik')\n",
    "    plt.xlabel('Prediksi')\n",
    "    plt.ylabel('Sebenarnya')\n",
    "    plt.show()\n",
    "\n",
    "    # Menampilkan Akurasi per Kelas\n",
    "    print(\"\\n--- Akurasi per Kelas ---\")\n",
    "    class_accuracy = cm.diagonal() / cm.sum(axis=1)\n",
    "    for i, acc in enumerate(class_accuracy):\n",
    "        print(f\"  - Akurasi untuk {classes[i]:<7}: {acc:.4f}\")\n",
    "\n",
    "\n",
    "if __name__ == '__main__':\n",
    "    main()'''"
   ]
  },
  {
   "cell_type": "markdown",
   "id": "312267da",
   "metadata": {},
   "source": [
    "Membuat Spektrogram"
   ]
  },
  {
   "cell_type": "code",
   "execution_count": null,
   "id": "ab69989d",
   "metadata": {},
   "outputs": [],
   "source": [
    "!pip install --upgrade ipywidgets"
   ]
  },
  {
   "cell_type": "code",
   "execution_count": 9,
   "id": "dc4d3481",
   "metadata": {},
   "outputs": [
    {
     "name": "stdout",
     "output_type": "stream",
     "text": [
      "Requirement already satisfied: torch in c:\\users\\user\\appdata\\local\\programs\\python\\python310\\lib\\site-packages (2.7.1)\n",
      "Requirement already satisfied: filelock in c:\\users\\user\\appdata\\local\\programs\\python\\python310\\lib\\site-packages (from torch) (3.18.0)\n",
      "Requirement already satisfied: typing-extensions>=4.10.0 in c:\\users\\user\\appdata\\roaming\\python\\python310\\site-packages (from torch) (4.14.0)\n",
      "Requirement already satisfied: sympy>=1.13.3 in c:\\users\\user\\appdata\\local\\programs\\python\\python310\\lib\\site-packages (from torch) (1.14.0)\n",
      "Requirement already satisfied: networkx in c:\\users\\user\\appdata\\local\\programs\\python\\python310\\lib\\site-packages (from torch) (3.4.2)\n",
      "Requirement already satisfied: jinja2 in c:\\users\\user\\appdata\\local\\programs\\python\\python310\\lib\\site-packages (from torch) (3.1.6)\n",
      "Requirement already satisfied: fsspec in c:\\users\\user\\appdata\\local\\programs\\python\\python310\\lib\\site-packages (from torch) (2025.5.1)\n",
      "Requirement already satisfied: mpmath<1.4,>=1.1.0 in c:\\users\\user\\appdata\\local\\programs\\python\\python310\\lib\\site-packages (from sympy>=1.13.3->torch) (1.3.0)\n",
      "Requirement already satisfied: MarkupSafe>=2.0 in c:\\users\\user\\appdata\\local\\programs\\python\\python310\\lib\\site-packages (from jinja2->torch) (3.0.2)\n"
     ]
    }
   ],
   "source": [
    "!pip install --upgrade torch"
   ]
  },
  {
   "cell_type": "code",
   "execution_count": 1,
   "id": "744a6a17",
   "metadata": {},
   "outputs": [
    {
     "name": "stderr",
     "output_type": "stream",
     "text": [
      "usage: jupyter [-h] [--version] [--config-dir] [--data-dir] [--runtime-dir]\n",
      "               [--paths] [--json] [--debug]\n",
      "               [subcommand]\n",
      "\n",
      "Jupyter: Interactive Computing\n",
      "\n",
      "positional arguments:\n",
      "  subcommand     the subcommand to launch\n",
      "\n",
      "options:\n",
      "  -h, --help     show this help message and exit\n",
      "  --version      show the versions of core jupyter packages and exit\n",
      "  --config-dir   show Jupyter config dir\n",
      "  --data-dir     show Jupyter data dir\n",
      "  --runtime-dir  show Jupyter runtime dir\n",
      "  --paths        show all Jupyter paths. Add --json for machine-readable\n",
      "                 format.\n",
      "  --json         output paths as machine-readable json\n",
      "  --debug        output debug information about paths\n",
      "\n",
      "Available subcommands: kernel kernelspec migrate run troubleshoot\n",
      "\n",
      "Jupyter command `jupyter-nbextension` not found.\n"
     ]
    }
   ],
   "source": [
    "!jupyter nbextension enable --py widgetsnbextension"
   ]
  },
  {
   "cell_type": "code",
   "execution_count": null,
   "id": "f3f8e435",
   "metadata": {},
   "outputs": [
    {
     "name": "stdout",
     "output_type": "stream",
     "text": [
      "Total sampel: 2555904\n",
      "Mengambil 5.0% subset: 127795 sampel\n",
      "\n",
      "Memulai pra-pemrosesan untuk membuat spectrogram...\n"
     ]
    },
    {
     "name": "stderr",
     "output_type": "stream",
     "text": [
      "Membuat Spectrogram: 100%|██████████| 127795/127795 [01:00<00:00, 2117.32it/s]\n"
     ]
    },
    {
     "name": "stdout",
     "output_type": "stream",
     "text": [
      "\n",
      "Dataset dari spectrogram di memori berhasil dibuat.\n",
      "Bentuk tensor spectrogram: torch.Size([127795, 1, 256, 9])\n",
      "Subset dibagi menjadi 102236 training dan 25559 testing.\n",
      "\n",
      "--- Memulai Training pada 5.0% Data ---\n"
     ]
    },
    {
     "name": "stderr",
     "output_type": "stream",
     "text": [
      "Training: 100%|██████████| 1598/1598 [43:39<00:00,  1.64s/it]\n",
      "Evaluating: 100%|██████████| 400/400 [02:53<00:00,  2.31it/s]\n"
     ]
    },
    {
     "name": "stdout",
     "output_type": "stream",
     "text": [
      "Epoch [1/10] | Train Loss: 2.1625, Train Acc: 0.2713 | Test Loss: 2.0542, Test Acc: 0.2916\n"
     ]
    },
    {
     "name": "stderr",
     "output_type": "stream",
     "text": [
      "Training:  80%|████████  | 1282/1598 [35:01<08:38,  1.64s/it]\n"
     ]
    },
    {
     "ename": "KeyboardInterrupt",
     "evalue": "",
     "output_type": "error",
     "traceback": [
      "\u001b[1;31m---------------------------------------------------------------------------\u001b[0m",
      "\u001b[1;31mKeyboardInterrupt\u001b[0m                         Traceback (most recent call last)",
      "Cell \u001b[1;32mIn[11], line 141\u001b[0m\n\u001b[0;32m    139\u001b[0m \u001b[38;5;66;03m# Panggil fungsi utama yang baru\u001b[39;00m\n\u001b[0;32m    140\u001b[0m \u001b[38;5;28;01mif\u001b[39;00m \u001b[38;5;18m__name__\u001b[39m \u001b[38;5;241m==\u001b[39m \u001b[38;5;124m'\u001b[39m\u001b[38;5;124m__main__\u001b[39m\u001b[38;5;124m'\u001b[39m:\n\u001b[1;32m--> 141\u001b[0m     \u001b[43mmain_spectrogram\u001b[49m\u001b[43m(\u001b[49m\u001b[43m)\u001b[49m\n",
      "Cell \u001b[1;32mIn[11], line 123\u001b[0m, in \u001b[0;36mmain_spectrogram\u001b[1;34m()\u001b[0m\n\u001b[0;32m    121\u001b[0m \u001b[38;5;66;03m# (Kode loop training dan evaluasi selanjutnya sama persis)\u001b[39;00m\n\u001b[0;32m    122\u001b[0m \u001b[38;5;28;01mfor\u001b[39;00m epoch \u001b[38;5;129;01min\u001b[39;00m \u001b[38;5;28mrange\u001b[39m(num_epochs):\n\u001b[1;32m--> 123\u001b[0m     train_loss, train_acc \u001b[38;5;241m=\u001b[39m \u001b[43mtrain_model\u001b[49m\u001b[43m(\u001b[49m\u001b[43mmodel\u001b[49m\u001b[43m,\u001b[49m\u001b[43m \u001b[49m\u001b[43mtrain_loader\u001b[49m\u001b[43m,\u001b[49m\u001b[43m \u001b[49m\u001b[43mcriterion\u001b[49m\u001b[43m,\u001b[49m\u001b[43m \u001b[49m\u001b[43moptimizer\u001b[49m\u001b[43m,\u001b[49m\u001b[43m \u001b[49m\u001b[43mdevice\u001b[49m\u001b[43m)\u001b[49m\n\u001b[0;32m    124\u001b[0m     test_loss, test_acc, _, _ \u001b[38;5;241m=\u001b[39m evaluate_model(model, test_loader, criterion, device)\n\u001b[0;32m    125\u001b[0m     \u001b[38;5;28mprint\u001b[39m(\u001b[38;5;124mf\u001b[39m\u001b[38;5;124m\"\u001b[39m\u001b[38;5;124mEpoch [\u001b[39m\u001b[38;5;132;01m{\u001b[39;00mepoch\u001b[38;5;241m+\u001b[39m\u001b[38;5;241m1\u001b[39m\u001b[38;5;132;01m}\u001b[39;00m\u001b[38;5;124m/\u001b[39m\u001b[38;5;132;01m{\u001b[39;00mnum_epochs\u001b[38;5;132;01m}\u001b[39;00m\u001b[38;5;124m] | \u001b[39m\u001b[38;5;124m\"\u001b[39m\n\u001b[0;32m    126\u001b[0m           \u001b[38;5;124mf\u001b[39m\u001b[38;5;124m\"\u001b[39m\u001b[38;5;124mTrain Loss: \u001b[39m\u001b[38;5;132;01m{\u001b[39;00mtrain_loss\u001b[38;5;132;01m:\u001b[39;00m\u001b[38;5;124m.4f\u001b[39m\u001b[38;5;132;01m}\u001b[39;00m\u001b[38;5;124m, Train Acc: \u001b[39m\u001b[38;5;132;01m{\u001b[39;00mtrain_acc\u001b[38;5;132;01m:\u001b[39;00m\u001b[38;5;124m.4f\u001b[39m\u001b[38;5;132;01m}\u001b[39;00m\u001b[38;5;124m | \u001b[39m\u001b[38;5;124m\"\u001b[39m\n\u001b[0;32m    127\u001b[0m           \u001b[38;5;124mf\u001b[39m\u001b[38;5;124m\"\u001b[39m\u001b[38;5;124mTest Loss: \u001b[39m\u001b[38;5;132;01m{\u001b[39;00mtest_loss\u001b[38;5;132;01m:\u001b[39;00m\u001b[38;5;124m.4f\u001b[39m\u001b[38;5;132;01m}\u001b[39;00m\u001b[38;5;124m, Test Acc: \u001b[39m\u001b[38;5;132;01m{\u001b[39;00mtest_acc\u001b[38;5;132;01m:\u001b[39;00m\u001b[38;5;124m.4f\u001b[39m\u001b[38;5;132;01m}\u001b[39;00m\u001b[38;5;124m\"\u001b[39m)\n",
      "Cell \u001b[1;32mIn[5], line 14\u001b[0m, in \u001b[0;36mtrain_model\u001b[1;34m(model, train_loader, criterion, optimizer, device)\u001b[0m\n\u001b[0;32m     12\u001b[0m outputs \u001b[38;5;241m=\u001b[39m model(inputs)\n\u001b[0;32m     13\u001b[0m loss \u001b[38;5;241m=\u001b[39m criterion(outputs, labels)\n\u001b[1;32m---> 14\u001b[0m \u001b[43mloss\u001b[49m\u001b[38;5;241;43m.\u001b[39;49m\u001b[43mbackward\u001b[49m\u001b[43m(\u001b[49m\u001b[43m)\u001b[49m\n\u001b[0;32m     15\u001b[0m optimizer\u001b[38;5;241m.\u001b[39mstep()\n\u001b[0;32m     17\u001b[0m running_loss \u001b[38;5;241m+\u001b[39m\u001b[38;5;241m=\u001b[39m loss\u001b[38;5;241m.\u001b[39mitem() \u001b[38;5;241m*\u001b[39m inputs\u001b[38;5;241m.\u001b[39msize(\u001b[38;5;241m0\u001b[39m)\n",
      "File \u001b[1;32mc:\\Users\\USER\\AppData\\Local\\Programs\\Python\\Python310\\lib\\site-packages\\torch\\_tensor.py:648\u001b[0m, in \u001b[0;36mTensor.backward\u001b[1;34m(self, gradient, retain_graph, create_graph, inputs)\u001b[0m\n\u001b[0;32m    638\u001b[0m \u001b[38;5;28;01mif\u001b[39;00m has_torch_function_unary(\u001b[38;5;28mself\u001b[39m):\n\u001b[0;32m    639\u001b[0m     \u001b[38;5;28;01mreturn\u001b[39;00m handle_torch_function(\n\u001b[0;32m    640\u001b[0m         Tensor\u001b[38;5;241m.\u001b[39mbackward,\n\u001b[0;32m    641\u001b[0m         (\u001b[38;5;28mself\u001b[39m,),\n\u001b[1;32m   (...)\u001b[0m\n\u001b[0;32m    646\u001b[0m         inputs\u001b[38;5;241m=\u001b[39minputs,\n\u001b[0;32m    647\u001b[0m     )\n\u001b[1;32m--> 648\u001b[0m \u001b[43mtorch\u001b[49m\u001b[38;5;241;43m.\u001b[39;49m\u001b[43mautograd\u001b[49m\u001b[38;5;241;43m.\u001b[39;49m\u001b[43mbackward\u001b[49m\u001b[43m(\u001b[49m\n\u001b[0;32m    649\u001b[0m \u001b[43m    \u001b[49m\u001b[38;5;28;43mself\u001b[39;49m\u001b[43m,\u001b[49m\u001b[43m \u001b[49m\u001b[43mgradient\u001b[49m\u001b[43m,\u001b[49m\u001b[43m \u001b[49m\u001b[43mretain_graph\u001b[49m\u001b[43m,\u001b[49m\u001b[43m \u001b[49m\u001b[43mcreate_graph\u001b[49m\u001b[43m,\u001b[49m\u001b[43m \u001b[49m\u001b[43minputs\u001b[49m\u001b[38;5;241;43m=\u001b[39;49m\u001b[43minputs\u001b[49m\n\u001b[0;32m    650\u001b[0m \u001b[43m\u001b[49m\u001b[43m)\u001b[49m\n",
      "File \u001b[1;32mc:\\Users\\USER\\AppData\\Local\\Programs\\Python\\Python310\\lib\\site-packages\\torch\\autograd\\__init__.py:353\u001b[0m, in \u001b[0;36mbackward\u001b[1;34m(tensors, grad_tensors, retain_graph, create_graph, grad_variables, inputs)\u001b[0m\n\u001b[0;32m    348\u001b[0m     retain_graph \u001b[38;5;241m=\u001b[39m create_graph\n\u001b[0;32m    350\u001b[0m \u001b[38;5;66;03m# The reason we repeat the same comment below is that\u001b[39;00m\n\u001b[0;32m    351\u001b[0m \u001b[38;5;66;03m# some Python versions print out the first line of a multi-line function\u001b[39;00m\n\u001b[0;32m    352\u001b[0m \u001b[38;5;66;03m# calls in the traceback and some print out the last line\u001b[39;00m\n\u001b[1;32m--> 353\u001b[0m \u001b[43m_engine_run_backward\u001b[49m\u001b[43m(\u001b[49m\n\u001b[0;32m    354\u001b[0m \u001b[43m    \u001b[49m\u001b[43mtensors\u001b[49m\u001b[43m,\u001b[49m\n\u001b[0;32m    355\u001b[0m \u001b[43m    \u001b[49m\u001b[43mgrad_tensors_\u001b[49m\u001b[43m,\u001b[49m\n\u001b[0;32m    356\u001b[0m \u001b[43m    \u001b[49m\u001b[43mretain_graph\u001b[49m\u001b[43m,\u001b[49m\n\u001b[0;32m    357\u001b[0m \u001b[43m    \u001b[49m\u001b[43mcreate_graph\u001b[49m\u001b[43m,\u001b[49m\n\u001b[0;32m    358\u001b[0m \u001b[43m    \u001b[49m\u001b[43minputs\u001b[49m\u001b[43m,\u001b[49m\n\u001b[0;32m    359\u001b[0m \u001b[43m    \u001b[49m\u001b[43mallow_unreachable\u001b[49m\u001b[38;5;241;43m=\u001b[39;49m\u001b[38;5;28;43;01mTrue\u001b[39;49;00m\u001b[43m,\u001b[49m\n\u001b[0;32m    360\u001b[0m \u001b[43m    \u001b[49m\u001b[43maccumulate_grad\u001b[49m\u001b[38;5;241;43m=\u001b[39;49m\u001b[38;5;28;43;01mTrue\u001b[39;49;00m\u001b[43m,\u001b[49m\n\u001b[0;32m    361\u001b[0m \u001b[43m\u001b[49m\u001b[43m)\u001b[49m\n",
      "File \u001b[1;32mc:\\Users\\USER\\AppData\\Local\\Programs\\Python\\Python310\\lib\\site-packages\\torch\\autograd\\graph.py:824\u001b[0m, in \u001b[0;36m_engine_run_backward\u001b[1;34m(t_outputs, *args, **kwargs)\u001b[0m\n\u001b[0;32m    822\u001b[0m     unregister_hooks \u001b[38;5;241m=\u001b[39m _register_logging_hooks_on_whole_graph(t_outputs)\n\u001b[0;32m    823\u001b[0m \u001b[38;5;28;01mtry\u001b[39;00m:\n\u001b[1;32m--> 824\u001b[0m     \u001b[38;5;28;01mreturn\u001b[39;00m Variable\u001b[38;5;241m.\u001b[39m_execution_engine\u001b[38;5;241m.\u001b[39mrun_backward(  \u001b[38;5;66;03m# Calls into the C++ engine to run the backward pass\u001b[39;00m\n\u001b[0;32m    825\u001b[0m         t_outputs, \u001b[38;5;241m*\u001b[39margs, \u001b[38;5;241m*\u001b[39m\u001b[38;5;241m*\u001b[39mkwargs\n\u001b[0;32m    826\u001b[0m     )  \u001b[38;5;66;03m# Calls into the C++ engine to run the backward pass\u001b[39;00m\n\u001b[0;32m    827\u001b[0m \u001b[38;5;28;01mfinally\u001b[39;00m:\n\u001b[0;32m    828\u001b[0m     \u001b[38;5;28;01mif\u001b[39;00m attach_logging_hooks:\n",
      "\u001b[1;31mKeyboardInterrupt\u001b[0m: "
     ]
    }
   ],
   "source": [
    "# Pastikan library ini sudah di-import di sel sebelumnya\n",
    "import timm\n",
    "from torchvision import transforms\n",
    "from torch.optim.lr_scheduler import ReduceLROnPlateau\n",
    "import h5py\n",
    "import numpy as np\n",
    "import torch\n",
    "from torch.utils.data import Dataset, DataLoader, random_split, TensorDataset\n",
    "import torchaudio\n",
    "import matplotlib.pyplot as plt\n",
    "import seaborn as sns\n",
    "from sklearn.metrics import confusion_matrix\n",
    "from tqdm import tqdm\n",
    "import torch.nn as nn\n",
    "import torch.optim as optim\n",
    "\n",
    "\n",
    "def main_spectrogram():\n",
    "    # 1. Pengaturan Awal (Path, Kelas, dan Transformasi)\n",
    "    hdf5_path = 'C:\\\\Users\\\\USER\\\\.cache\\\\kagglehub\\\\datasets\\\\pinxau1000\\\\radioml2018\\\\versions\\\\2\\\\GOLD_XYZ_OSC.0001_1024.hdf5'\n",
    "    classes = [\n",
    "    'OOK','4ASK','8ASK','BPSK','QPSK','8PSK','16PSK','32PSK','64PSK',\n",
    "    'QAM16','QAM32','QAM64','QAM128','QAM256','AM-SSB-WC','AM-SSB-SC',\n",
    "    'AM-DSB-WC','AM-DSB-SC','FM','GMSK','OQPSK','WBFM','CPFSK','GFSK'\n",
    "    ]\n",
    "\n",
    "    # Buka file HDF5 untuk mendapatkan jumlah total sampel\n",
    "    with h5py.File(hdf5_path, 'r') as f:\n",
    "        total_samples = f['X'].shape[0]\n",
    "\n",
    "    SUBSET_PERCENTAGE = 0.05  # 5% dari total sampel\n",
    "\n",
    "    # Pilih 10% indeks secara acak\n",
    "    subset_size = int(total_samples * SUBSET_PERCENTAGE)\n",
    "    all_indices = np.arange(total_samples)\n",
    "    subset_indices = np.random.choice(all_indices, size=subset_size, replace=False)\n",
    "    \n",
    "    print(f\"Total sampel: {total_samples}\")\n",
    "    print(f\"Mengambil {SUBSET_PERCENTAGE*100}% subset: {subset_size} sampel\")\n",
    "\n",
    "    # --- TAHAP 2: PRA-PEMROSESAN (MEMBUAT SPECTROGRAM UNTUK SUBSET) ---\n",
    "    \n",
    "    spectrograms_in_memory = []\n",
    "    labels_in_memory = []\n",
    "    \n",
    "    spectrogram_generator = torchaudio.transforms.Spectrogram(n_fft=256, onesided=False)\n",
    "\n",
    "    # Lakukan loop hanya pada indeks-indeks subset yang telah dipilih\n",
    "    print(\"\\nMemulai pra-pemrosesan untuk membuat spectrogram...\")\n",
    "    with h5py.File(hdf5_path, 'r') as f:\n",
    "        for idx in tqdm(subset_indices, desc=\"Membuat Spectrogram\"):\n",
    "            iq_signal = f['X'][idx]\n",
    "            label_onehot = f['Y'][idx]\n",
    "            \n",
    "            # Proses konversi sama seperti sebelumnya\n",
    "            complex_signal = torch.tensor(iq_signal[:, 0] + 1j * iq_signal[:, 1], dtype=torch.complex64)\n",
    "            spectrogram = spectrogram_generator(complex_signal)\n",
    "            log_spectrogram = torch.log1p(spectrogram.abs())\n",
    "            \n",
    "            # Simpan spectrogram mentah (tanpa resize/normalize) ke memori\n",
    "            spectrograms_in_memory.append(log_spectrogram)\n",
    "            labels_in_memory.append(np.argmax(label_onehot))\n",
    "\n",
    "    # --- TAHAP 3: MEMBUAT DATASET PYTORCH DARI DATA DI RAM ---\n",
    "\n",
    "    # Ubah list menjadi tensor PyTorch tunggal\n",
    "    all_spectrograms = torch.stack(spectrograms_in_memory)\n",
    "    all_labels = torch.LongTensor(labels_in_memory)\n",
    "    \n",
    "    # Tambahkan dimensi channel (dari (N, H, W) -> (N, 1, H, W))\n",
    "    all_spectrograms = all_spectrograms.unsqueeze(1)\n",
    "    \n",
    "    # Buat dataset PyTorch yang efisien dari tensor di memori\n",
    "    # Kita tidak lagi menggunakan SpectrogramDataset, tapi TensorDataset\n",
    "    precomputed_dataset = TensorDataset(all_spectrograms, all_labels)\n",
    "    print(\"\\nDataset dari spectrogram di memori berhasil dibuat.\")\n",
    "    print(f\"Bentuk tensor spectrogram: {all_spectrograms.shape}\")\n",
    "\n",
    "    # --- TAHAP 4: TRAINING DAN EVALUASI (MENGGUNAKAN DATA SUBSET) ---\n",
    "\n",
    "    # Definisikan transformasi (akan diterapkan oleh DataLoader)\n",
    "    image_transforms = transforms.Compose([\n",
    "        # Duplikasi channel agar menjadi 3 (agar cocok dengan model pre-trained)\n",
    "        transforms.Lambda(lambda x: x.repeat(3, 1, 1)), \n",
    "        transforms.Resize((224, 224)),\n",
    "        transforms.Normalize(mean=[0.485, 0.456, 0.406], std=[0.229, 0.224, 0.225])\n",
    "    ])\n",
    "    \n",
    "    # Kelas wrapper untuk menerapkan transformasi\n",
    "    class TransformDataset(Dataset):\n",
    "        def __init__(self, dataset, transform):\n",
    "            self.dataset = dataset\n",
    "            self.transform = transform\n",
    "        def __getitem__(self, index):\n",
    "            x, y = self.dataset[index]\n",
    "            return self.transform(x), y\n",
    "        def __len__(self):\n",
    "            return len(self.dataset)\n",
    "\n",
    "    transformed_dataset = TransformDataset(precomputed_dataset, image_transforms)\n",
    "\n",
    "    # Pembagian Data (80-20 dari 10% subset)\n",
    "    train_size = int(0.8 * len(transformed_dataset))\n",
    "    test_size = len(transformed_dataset) - train_size\n",
    "    train_dataset, test_dataset = random_split(transformed_dataset, [train_size, test_size])\n",
    "    print(f\"Subset dibagi menjadi {train_size} training dan {test_size} testing.\")\n",
    "    \n",
    "    train_loader = DataLoader(train_dataset, batch_size=64, shuffle=True, num_workers=0)\n",
    "    test_loader = DataLoader(test_dataset, batch_size=64, shuffle=False, num_workers=0)\n",
    "\n",
    "    # Inisialisasi Model, dll.\n",
    "    device = torch.device('cuda' if torch.cuda.is_available() else 'cpu')\n",
    "    print(f\"Pelatihan akan menggunakan device: {device}\")\n",
    "    model = timm.create_model('efficientnet_b0', pretrained=True, num_classes=len(classes)).to(device)\n",
    "    criterion = nn.CrossEntropyLoss()\n",
    "    optimizer = optim.Adam(model.parameters(), lr=1e-3)\n",
    "    scheduler = ReduceLROnPlateau(optimizer, mode='min', factor=0.1, patience=3)\n",
    "    \n",
    "    # Loop Training\n",
    "    num_epochs = 10\n",
    "    print(f\"\\n--- Memulai Training pada {SUBSET_PERCENTAGE*100}% Data ---\")\n",
    "    # (Kode loop training dan evaluasi selanjutnya sama persis)\n",
    "    for epoch in range(num_epochs):\n",
    "        train_loss, train_acc = train_model(model, train_loader, criterion, optimizer, device)\n",
    "        test_loss, test_acc, _, _ = evaluate_model(model, test_loader, criterion, device)\n",
    "        print(f\"Epoch [{epoch+1}/{num_epochs}] | \"\n",
    "              f\"Train Loss: {train_loss:.4f}, Train Acc: {train_acc:.4f} | \"\n",
    "              f\"Test Loss: {test_loss:.4f}, Test Acc: {test_acc:.4f}\")\n",
    "        scheduler.step(test_loss)\n",
    "\n",
    "    # Evaluasi Akhir\n",
    "    print(\"\\n--- Evaluasi Akhir ---\")\n",
    "    _, _, true_labels, predicted_labels = evaluate_model(model, test_loader, criterion, device)\n",
    "    cm = confusion_matrix(true_labels, predicted_labels)\n",
    "    plt.figure(figsize=(16, 14))\n",
    "    sns.heatmap(cm, annot=True, fmt='d', xticklabels=classes, yticklabels=classes, cmap='Blues')\n",
    "    plt.title(f'Confusion Matrix (Training pada {SUBSET_PERCENTAGE*100}% Data)')\n",
    "    plt.show()\n",
    "\n",
    "# Panggil fungsi utama yang baru\n",
    "if __name__ == '__main__':\n",
    "    main_spectrogram()"
   ]
  }
 ],
 "metadata": {
  "kernelspec": {
   "display_name": "Python 3",
   "language": "python",
   "name": "python3"
  },
  "language_info": {
   "codemirror_mode": {
    "name": "ipython",
    "version": 3
   },
   "file_extension": ".py",
   "mimetype": "text/x-python",
   "name": "python",
   "nbconvert_exporter": "python",
   "pygments_lexer": "ipython3",
   "version": "3.10.11"
  }
 },
 "nbformat": 4,
 "nbformat_minor": 5
}
