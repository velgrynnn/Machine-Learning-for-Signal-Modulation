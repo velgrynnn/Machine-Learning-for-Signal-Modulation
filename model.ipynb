{
 "cells": [
  {
   "cell_type": "code",
   "execution_count": 4,
   "id": "830497cd",
   "metadata": {},
   "outputs": [
    {
     "name": "stderr",
     "output_type": "stream",
     "text": [
      "c:\\Users\\USER\\AppData\\Local\\Programs\\Python\\Python310\\lib\\site-packages\\tqdm\\auto.py:21: TqdmWarning: IProgress not found. Please update jupyter and ipywidgets. See https://ipywidgets.readthedocs.io/en/stable/user_install.html\n",
      "  from .autonotebook import tqdm as notebook_tqdm\n"
     ]
    },
    {
     "name": "stdout",
     "output_type": "stream",
     "text": [
      "Downloading from https://www.kaggle.com/api/v1/datasets/download/pinxau1000/radioml2018?dataset_version_number=2...\n"
     ]
    },
    {
     "name": "stderr",
     "output_type": "stream",
     "text": [
      "100%|██████████| 18.0G/18.0G [15:05<00:00, 21.4MB/s]  "
     ]
    },
    {
     "name": "stdout",
     "output_type": "stream",
     "text": [
      "Extracting files...\n"
     ]
    },
    {
     "name": "stderr",
     "output_type": "stream",
     "text": [
      "\n"
     ]
    },
    {
     "name": "stdout",
     "output_type": "stream",
     "text": [
      "Path to dataset files: C:\\Users\\USER\\.cache\\kagglehub\\datasets\\pinxau1000\\radioml2018\\versions\\2\n"
     ]
    }
   ],
   "source": [
    "import kagglehub\n",
    "\n",
    "# Download latest version\n",
    "path = kagglehub.dataset_download(\"pinxau1000/radioml2018\")\n",
    "\n",
    "print(\"Path to dataset files:\", path)"
   ]
  },
  {
   "cell_type": "code",
   "execution_count": 1,
   "id": "e883d04a",
   "metadata": {},
   "outputs": [
    {
     "name": "stdout",
     "output_type": "stream",
     "text": [
      " Volume in drive C is Windows SSD\n",
      " Volume Serial Number is 00BC-1571\n",
      "\n",
      " Directory of C:\\Users\\USER\\.cache\\kagglehub\\datasets\\pinxau1000\\radioml2018\\versions\\2\n",
      "\n",
      "06/03/2025  04:24 PM    <DIR>          .\n",
      "06/03/2025  04:22 PM    <DIR>          ..\n",
      "06/03/2025  04:24 PM               246 classes-fixed.json\n",
      "06/03/2025  04:24 PM             1,632 classes-fixed.txt\n",
      "06/03/2025  04:24 PM               262 classes.txt\n",
      "06/03/2025  04:24 PM               172 datasets.desktop\n",
      "06/03/2025  04:24 PM    21,449,148,312 GOLD_XYZ_OSC.0001_1024.hdf5\n",
      "06/03/2025  04:24 PM            20,993 LICENSE.TXT\n",
      "               6 File(s) 21,449,171,617 bytes\n",
      "               2 Dir(s)  889,175,351,296 bytes free\n"
     ]
    }
   ],
   "source": [
    "!dir C:\\Users\\USER\\.cache\\kagglehub\\datasets\\pinxau1000\\radioml2018\\versions\\2"
   ]
  },
  {
   "cell_type": "code",
   "execution_count": 5,
   "id": "6278a5c0",
   "metadata": {},
   "outputs": [],
   "source": [
    "dataset_path = \"C:\\\\Users\\\\USER\\\\.cache\\\\kagglehub\\\\datasets\\\\pinxau1000\\\\radioml2018\\\\versions\\\\2\\\\GOLD_XYZ_OSC.0001_1024.hdf5\""
   ]
  },
  {
   "cell_type": "code",
   "execution_count": null,
   "id": "18a0c431",
   "metadata": {},
   "outputs": [],
   "source": [
    "!pip install torch seaborn"
   ]
  },
  {
   "cell_type": "markdown",
   "id": "ce2c8a3c",
   "metadata": {},
   "source": [
    "1. Load dataset dan preprocessing"
   ]
  },
  {
   "cell_type": "code",
   "execution_count": 7,
   "id": "cc3679d1",
   "metadata": {},
   "outputs": [
    {
     "name": "stdout",
     "output_type": "stream",
     "text": [
      "Collecting torchsummary\n",
      "  Downloading torchsummary-1.5.1-py3-none-any.whl.metadata (296 bytes)\n",
      "Downloading torchsummary-1.5.1-py3-none-any.whl (2.8 kB)\n",
      "Installing collected packages: torchsummary\n",
      "Successfully installed torchsummary-1.5.1\n"
     ]
    }
   ],
   "source": [
    "!pip install torchsummary"
   ]
  },
  {
   "cell_type": "code",
   "execution_count": 9,
   "id": "626a7768",
   "metadata": {},
   "outputs": [],
   "source": [
    "from torchsummary import summary\n",
    "import pickle\n",
    "import numpy as np\n",
    "import torch\n",
    "import torch.nn as nn\n",
    "import torch.optim as optim\n",
    "from torch.utils.data import Dataset, DataLoader, random_split\n",
    "import matplotlib.pyplot as plt\n",
    "from sklearn.metrics import confusion_matrix, accuracy_score\n",
    "import seaborn as sns"
   ]
  },
  {
   "cell_type": "code",
   "execution_count": 6,
   "id": "b6c424c1",
   "metadata": {},
   "outputs": [
    {
     "name": "stdout",
     "output_type": "stream",
     "text": [
      "Shape of X (IQ data): (2555904, 1024, 2)\n",
      "Shape of Y (Labels): (2555904, 24)\n",
      "Shape of Z (SNR): (2555904, 1)\n"
     ]
    }
   ],
   "source": [
    "import h5py\n",
    "\n",
    "# Misalkan kamu sudah memuat file HDF5\n",
    "with h5py.File(dataset_path, 'r') as f:\n",
    "    X = f['X'][:]  # Sinyal IQ\n",
    "    Y = f['Y'][:]  # Label modulasi\n",
    "    Z = f['Z'][:]  # Label SNR\n",
    "    \n",
    "    print(f\"Shape of X (IQ data): {X.shape}\")\n",
    "    print(f\"Shape of Y (Labels): {Y.shape}\")\n",
    "    print(f\"Shape of Z (SNR): {Z.shape}\")\n"
   ]
  },
  {
   "cell_type": "markdown",
   "id": "1cc6112d",
   "metadata": {},
   "source": [
    "2. Pendefinisian Class dan Objek"
   ]
  },
  {
   "cell_type": "code",
   "execution_count": null,
   "id": "f23ba84c",
   "metadata": {},
   "outputs": [
    {
     "name": "stdout",
     "output_type": "stream",
     "text": [
      "Total samples: 2555904\n",
      "Label raw (before processing): [1 0 0 0 0 0 0 0 0 0 0 0 0 0 0 0 0 0 0 0 0 0 0 0]\n",
      "Type of label: <class 'numpy.ndarray'>\n",
      "Shape of first sample (IQ): torch.Size([1024, 2])\n",
      "Label raw (before processing): [1 0 0 0 0 0 0 0 0 0 0 0 0 0 0 0 0 0 0 0 0 0 0 0]\n",
      "Type of label: <class 'numpy.ndarray'>\n",
      "Label for first sample: 0\n"
     ]
    }
   ],
   "source": [
    "class BasicBlock(nn.Module):\n",
    "     \"\"\" Basic Residual Block (used in ResNet) \"\"\"\n",
    "     def __init__(self, in_channels, out_channels):\n",
    "         super(BasicBlock, self).__init__()\n",
    "         self.conv1 = nn.Conv1d(in_channels, out_channels, kernel_size=3, padding=1)\n",
    "         self.bn1 = nn.BatchNorm1d(out_channels)\n",
    "         self.relu = nn.ReLU()\n",
    "         self.conv2 = nn.Conv1d(out_channels, out_channels, kernel_size=3, padding=1)\n",
    "         self.bn2 = nn.BatchNorm1d(out_channels)\n",
    "         self.shortcut = nn.Sequential()\n",
    "         if in_channels != out_channels:\n",
    "             self.shortcut = nn.Sequential(\n",
    "                 nn.Conv1d(in_channels, out_channels, kernel_size=1),\n",
    "                 nn.BatchNorm1d(out_channels)\n",
    "             )\n",
    "\n",
    "     def forward(self, x):\n",
    "         out = self.relu(self.bn1(self.conv1(x)))\n",
    "         out = self.bn2(self.conv2(out))\n",
    "         out += self.shortcut(x)  # residual connection\n",
    "         out = self.relu(out)\n",
    "         return out\n",
    "\n",
    "class CNNResNetModel(nn.Module):\n",
    "    def __init__(self, num_classes=8):\n",
    "        super(CNNResNetModel, self).__init__()\n",
    "        self.conv1 = nn.Conv1d(2, 64, kernel_size=3, padding=1)\n",
    "        self.bn1 = nn.BatchNorm1d(64)\n",
    "        self.relu = nn.ReLU()\n",
    "        self.pool = nn.MaxPool1d(2)\n",
    "        \n",
    "        # ResNet blocks\n",
    "        self.resnet_block1 = BasicBlock(64, 128)\n",
    "        self.resnet_block2 = BasicBlock(128, 256)\n",
    "        self.resnet_block3 = BasicBlock(256, 512)\n",
    "        \n",
    "        self.fc1 = nn.Linear(512 * 16, 1024)  # Adjust according to input length after pooling\n",
    "        self.fc2 = nn.Linear(1024, num_classes)\n",
    "        self.dropout = nn.Dropout(0.5)\n",
    "\n",
    "    def forward(self, x):\n",
    "        # CNN part\n",
    "        x = self.relu(self.bn1(self.conv1(x)))\n",
    "        x = self.pool(x)  # shape becomes (batch_size, 64, 64)\n",
    "\n",
    "        # ResNet part\n",
    "        x = self.resnet_block1(x)  # (batch_size, 128, 64)\n",
    "        x = self.pool(x)  # shape becomes (batch_size, 128, 32)\n",
    "        \n",
    "        x = self.resnet_block2(x)  # (batch_size, 256, 32)\n",
    "        x = self.pool(x)  # shape becomes (batch_size, 256, 16)\n",
    "        \n",
    "        x = self.resnet_block3(x)  # (batch_size, 512, 16)\n",
    "\n",
    "        # Flattening the output for fully connected layers\n",
    "        x = torch.flatten(x, 1)\n",
    "\n",
    "        # Fully connected layers\n",
    "        x = self.fc1(x)\n",
    "        x = self.dropout(x)\n",
    "        x = self.fc2(x)\n",
    "        return x\n",
    "\n",
    "class RadioMLDataset(Dataset):\n",
    "    \"\"\" Dataset for loading and preprocessing HDF5 file \"\"\"\n",
    "    def __init__(self, hdf5_path, classes):\n",
    "        with h5py.File(hdf5_path, 'r') as f:\n",
    "            self.X = f['X'][:]\n",
    "            self.Y = f['Y'][:]\n",
    "            self.SNR = f['Z'][:]\n",
    "        self.classes = classes\n",
    "        self.class_to_idx = {cls: idx for idx, cls in enumerate(classes)}\n",
    "        \n",
    "    def __len__(self):\n",
    "        return len(self.Y)\n",
    "\n",
    "    def __getitem__(self, idx):\n",
    "        # Normalize IQ samples to range [-1, 1]\n",
    "        iq_data = self.X[idx]  # normalize\n",
    "        label = self.Y[idx]\n",
    "        if isinstance(label, np.ndarray):\n",
    "            label = np.argmax(label)\n",
    "        iq_data_normalized = iq_data / np.max(np.abs(iq_data))\n",
    "        iq_tensor = torch.FloatTensor(iq_data_normalized)\n",
    "        label_tensor = torch.tensor(label, dtype=torch.long)\n",
    "        return iq_tensor, label_tensor # torch.FloatTensor(iq_data), torch.tensor(label)\n",
    "\n",
    "hdf5_path = dataset_path\n",
    "classes = ['BPSK', 'QPSK', '8PSK', 'QAM16', 'QAM64', 'CPFSK', 'GFSK', '4PAM']\n",
    "\n",
    "dataset = RadioMLDataset(hdf5_path, classes)\n",
    "\n",
    "# Melihat contoh data\n",
    "print(f\"Total samples: {len(dataset)}\")\n",
    "print(f\"Shape of first sample (IQ): {dataset[0][0].shape}\")\n",
    "print(f\"Label for first sample: {dataset[0][1]}\")"
   ]
  },
  {
   "cell_type": "markdown",
   "id": "29d89def",
   "metadata": {},
   "source": [
    "3. Subprogram Training dan Evaluasi"
   ]
  },
  {
   "cell_type": "code",
   "execution_count": null,
   "id": "b93f56f2",
   "metadata": {},
   "outputs": [],
   "source": [
    "def train_model(model, train_loader, criterion, optimizer, device):\n",
    "    model.train()\n",
    "    running_loss = 0.0\n",
    "    correct = 0\n",
    "    total = 0\n",
    "    for inputs, labels in train_loader:\n",
    "        inputs, labels = inputs.to(device), labels.to(device)\n",
    "\n",
    "        optimizer.zero_grad()\n",
    "        outputs = model(inputs)\n",
    "        loss = criterion(outputs, labels)\n",
    "        loss.backward()\n",
    "        optimizer.step()\n",
    "\n",
    "        running_loss += loss.item() * inputs.size(0)\n",
    "        _, predicted = torch.max(outputs, 1)\n",
    "        correct += (predicted == labels).sum().item()\n",
    "        total += labels.size(0)\n",
    "\n",
    "    return running_loss / total, correct / total\n",
    "\n",
    "def evaluate_model(model, test_loader, criterion, device):\n",
    "    model.eval()\n",
    "    running_loss = 0.0\n",
    "    correct = 0\n",
    "    total = 0\n",
    "    all_labels = []\n",
    "    all_preds = []\n",
    "\n",
    "    with torch.no_grad():\n",
    "        for inputs, labels in test_loader:\n",
    "            inputs, labels = inputs.to(device), labels.to(device)\n",
    "\n",
    "            outputs = model(inputs)\n",
    "            loss = criterion(outputs, labels)\n",
    "\n",
    "            running_loss += loss.item() * inputs.size(0)\n",
    "            _, predicted = torch.max(outputs, 1)\n",
    "            correct += (predicted == labels).sum().item()\n",
    "            total += labels.size(0)\n",
    "\n",
    "            all_labels.extend(labels.cpu().numpy())\n",
    "            all_preds.extend(predicted.cpu().numpy())\n",
    "\n",
    "    return running_loss / total, correct / total, all_labels, all_preds"
   ]
  },
  {
   "cell_type": "markdown",
   "id": "5d188b68",
   "metadata": {},
   "source": [
    "4. Program Utama untuk Training dan Evaluasi"
   ]
  },
  {
   "cell_type": "code",
   "execution_count": null,
   "id": "c6ead99f",
   "metadata": {},
   "outputs": [],
   "source": [
    "def main():\n",
    "    # Load HDF5 data\n",
    "    hdf5_path = 'dataset.hdf5'  # Path to your HDF5 file\n",
    "    classes = ['BPSK', 'QPSK', '8PSK', 'QAM16', 'QAM64', 'CPFSK', 'GFSK', '4PAM']\n",
    "    dataset = RadioMLDataset(hdf5_path, classes)\n",
    "\n",
    "    # Split into train and test sets (80-20)\n",
    "    train_size = int(0.8 * len(dataset))\n",
    "    test_size = len(dataset) - train_size\n",
    "    train_dataset, test_dataset = random_split(dataset, [train_size, test_size])\n",
    "\n",
    "    train_loader = DataLoader(train_dataset, batch_size=256, shuffle=True)\n",
    "    test_loader = DataLoader(test_dataset, batch_size=256, shuffle=False)\n",
    "\n",
    "    # Model, loss function, optimizer\n",
    "    device = torch.device('cuda' if torch.cuda.is_available() else 'cpu')\n",
    "    model = CNNResNetModel(num_classes=len(classes)).to(device)\n",
    "    criterion = nn.CrossEntropyLoss()\n",
    "    optimizer = optim.Adam(model.parameters(), lr=1e-3)\n",
    "\n",
    "    # Train the model\n",
    "    num_epochs = 25\n",
    "    for epoch in range(num_epochs):\n",
    "        train_loss, train_acc = train_model(model, train_loader, criterion, optimizer, device)\n",
    "        test_loss, test_acc, _, _ = evaluate_model(model, test_loader, criterion, device)\n",
    "\n",
    "        print(f\"Epoch [{epoch+1}/{num_epochs}], \"\n",
    "              f\"Train Loss: {train_loss:.4f}, Train Acc: {train_acc:.4f}, \"\n",
    "              f\"Test Loss: {test_loss:.4f}, Test Acc: {test_acc:.4f}\")\n",
    "\n",
    "    # Final evaluation on the test set\n",
    "    _, _, true_labels, predicted_labels = evaluate_model(model, test_loader, criterion, device)\n",
    "    cm = confusion_matrix(true_labels, predicted_labels)\n",
    "    plt.figure(figsize=(10, 8))\n",
    "    sns.heatmap(cm, annot=True, fmt='d', xticklabels=classes, yticklabels=classes, cmap='Blues')\n",
    "    plt.title('Confusion Matrix')\n",
    "    plt.xlabel('Predicted')\n",
    "    plt.ylabel('True')\n",
    "    plt.show()\n",
    "\n",
    "if __name__ == '__main__':\n",
    "    main()"
   ]
  }
 ],
 "metadata": {
  "kernelspec": {
   "display_name": "Python 3",
   "language": "python",
   "name": "python3"
  },
  "language_info": {
   "codemirror_mode": {
    "name": "ipython",
    "version": 3
   },
   "file_extension": ".py",
   "mimetype": "text/x-python",
   "name": "python",
   "nbconvert_exporter": "python",
   "pygments_lexer": "ipython3",
   "version": "3.10.11"
  }
 },
 "nbformat": 4,
 "nbformat_minor": 5
}
